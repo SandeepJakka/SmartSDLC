# SmartSDLC - AI-Powered Software Development Lifecycle Automation
# Run this in Google Colab for full functionality

# Install required packages
import subprocess
import sys

def install_packages():
    packages = [
        "fastapi",
        "uvicorn",
        "gradio",
        "transformers",
        "torch",
        "PyPDF2",
        "python-multipart",
        "pydantic",
        "accelerate",
        "nest-asyncio"
    ]
    
    for package in packages:
        subprocess.check_call([sys.executable, "-m", "pip", "install", package])

# Uncomment the line below when running in Colab for the first time
# install_packages()

import os
import re
import PyPDF2
import gradio as gr
import torch
from transformers import AutoTokenizer, AutoModelForCausalLM
from fastapi import FastAPI, File, UploadFile, HTTPException
from pydantic import BaseModel
from typing import List, Dict, Optional
import nest_asyncio
import uvicorn
from io import BytesIO
import threading
import time

# Enable nested asyncio for Colab compatibility
nest_asyncio.apply()

class SmartSDLC:
    def __init__(self):
        self.model_name = "ibm-granite/granite-3.3-2b-instruct"
        self.tokenizer = None
        self.model = None
        self.device = "cuda" if torch.cuda.is_available() else "cpu"
        self.load_model()
        
    def load_model(self):
        """Load the Granite model for text generation"""
        print("Loading Granite 3.3 2B Instruct model...")
        try:
            self.tokenizer = AutoTokenizer.from_pretrained(self.model_name)
            self.model = AutoModelForCausalLM.from_pretrained(
                self.model_name,
                torch_dtype=torch.float16 if torch.cuda.is_available() else torch.float32,
                device_map="auto" if torch.cuda.is_available() else None
            )
            print(f"Model loaded successfully on {self.device}")
        except Exception as e:
            print(f"Error loading model: {e}")
            raise
    
    def generate_response(self, prompt: str, max_length: int = 512) -> str:
        """Generate response using the Granite model"""
        try:
            inputs = self.tokenizer(prompt, return_tensors="pt", truncation=True, max_length=1024)
            if torch.cuda.is_available():
                inputs = {k: v.to(self.device) for k, v in inputs.items()}
            
            with torch.no_grad():
                outputs = self.model.generate(
                    **inputs,
                    max_length=inputs['input_ids'].shape[1] + max_length,
                    temperature=0.7,
                    do_sample=True,
                    pad_token_id=self.tokenizer.eos_token_id,
                    num_return_sequences=1
                )
            
            response = self.tokenizer.decode(outputs[0], skip_special_tokens=True)
            # Remove the input prompt from the response
            response = response[len(prompt):].strip()
            return response
            
        except Exception as e:
            return f"Error generating response: {str(e)}"
    
    def extract_pdf_text(self, file_content: bytes) -> str:
        """Extract text from PDF file"""
        try:
            pdf_reader = PyPDF2.PdfReader(BytesIO(file_content))
            text = ""
            for page in pdf_reader.pages:
                text += page.extract_text() + "\n"
            return text.strip()
        except Exception as e:
            return f"Error extracting PDF text: {str(e)}"
    
    def classify_requirements(self, requirements_text: str) -> Dict[str, List[str]]:
        """Classify requirements into SDLC stages"""
        # Truncate text if too long to avoid token limits
        if len(requirements_text) > 2000:
            requirements_text = requirements_text[:2000] + "..."
        
        prompt = f"""
You are an expert software analyst. Classify the following requirements into SDLC stages.

Requirements Text:
{requirements_text}

Classify each requirement into these categories:

PLANNING:
List requirements related to project planning, scope, timelines, resources, feasibility

DESIGN:
List requirements related to system architecture, UI/UX, database design, technical design

IMPLEMENTATION:
List requirements related to coding, development, technical features, functionality

TESTING:
List requirements related to testing, quality assurance, validation, verification

MAINTENANCE:
List requirements related to updates, support, documentation, deployment

Format your response exactly like this:
PLANNING:
- requirement 1
- requirement 2

DESIGN:
- requirement 1

IMPLEMENTATION:
- requirement 1

TESTING:
- requirement 1

MAINTENANCE:
- requirement 1
"""
        
        response = self.generate_response(prompt, max_length=800)
        print(f"AI Response: {response[:500]}...")  # Debug: show first 500 chars
        
        classification = self.parse_classification_response(response)
        
        # If still empty, try alternative approach
        if all(len(reqs) == 0 for reqs in classification.values()):
            print("First classification failed, trying simpler approach...")
            
            simple_prompt = f"""
Analyze this software requirements text and extract key requirements:

{requirements_text[:1500]}

List the main requirements you can identify:
1.
2.
3.
4.
5.
"""
            simple_response = self.generate_response(simple_prompt, max_length=400)
            print(f"Simple response: {simple_response}")
            
            # Parse numbered list and distribute across stages
            lines = simple_response.split('\n')
            requirements_list = []
            for line in lines:
                line = line.strip()
                if re.match(r'^\d+\.', line):
                    req = re.sub(r'^\d+\.\s*', '', line).strip()
                    if req:
                        requirements_list.append(req)
            
            # Distribute requirements across stages cyclically
            stages_list = list(classification.keys())
            for i, req in enumerate(requirements_list):
                stage = stages_list[i % len(stages_list)]
                classification[stage].append(req)
        
        return classification
    
    def parse_classification_response(self, response: str) -> Dict[str, List[str]]:
        """Parse the classification response into structured format"""
        stages = {
            "Planning": [],
            "Design": [],
            "Implementation": [],
            "Testing": [],
            "Maintenance": []
        }
        
        # More flexible parsing approach
        current_stage = None
        lines = response.split('\n')
        
        for line in lines:
            line = line.strip()
            
            # Check for stage headers - multiple formats
            stage_found = None
            for stage in stages.keys():
                # Various header formats the AI might use
                patterns = [
                    f"**{stage}:**",
                    f"**{stage}**:",
                    f"#{stage}",
                    f"## {stage}",
                    f"### {stage}",
                    f"{stage.upper()}:",
                    f"{stage}:",
                    stage.upper(),
                    stage
                ]
                
                for pattern in patterns:
                    if line.lower().startswith(pattern.lower()) or line.lower() == pattern.lower():
                        stage_found = stage
                        break
                if stage_found:
                    break
            
            if stage_found:
                current_stage = stage_found
                continue
            
            # Extract requirements - multiple bullet formats
            if current_stage and line:
                requirement = None
                
                # Different bullet point formats
                if line.startswith('- '):
                    requirement = line[2:].strip()
                elif line.startswith('* '):
                    requirement = line[2:].strip()
                elif line.startswith('• '):
                    requirement = line[2:].strip()
                elif line.startswith('→ '):
                    requirement = line[2:].strip()
                elif re.match(r'^\d+\.\s+', line):
                    requirement = re.sub(r'^\d+\.\s+', '', line).strip()
                elif not any(stage.lower() in line.lower() for stage in stages.keys()):
                    # If it's not a stage header and we're in a stage, treat as requirement
                    requirement = line.strip()
                
                if requirement and len(requirement) > 3:  # Avoid very short/empty requirements
                    stages[current_stage].append(requirement)
        
        # Fallback: if no requirements found, try simple keyword matching
        if all(len(reqs) == 0 for reqs in stages.values()):
            return self.fallback_classification(response)
        
        return stages
    
    def fallback_classification(self, text: str) -> Dict[str, List[str]]:
        """Fallback classification using keyword matching"""
        stages = {
            "Planning": [],
            "Design": [],
            "Implementation": [],
            "Testing": [],
            "Maintenance": []
        }
        
        # Keywords for each stage
        keywords = {
            "Planning": ["plan", "scope", "timeline", "resource", "budget", "feasibility", "requirement", "analysis"],
            "Design": ["design", "architecture", "ui", "ux", "database", "schema", "interface", "wireframe"],
            "Implementation": ["code", "develop", "implement", "function", "method", "class", "module", "api"],
            "Testing": ["test", "quality", "validate", "verify", "debug", "unit test", "integration"],
            "Maintenance": ["maintain", "update", "support", "documentation", "deploy", "monitor"]
        }
        
        sentences = re.split(r'[.!?]+', text)
        
        for sentence in sentences:
            sentence = sentence.strip()
            if len(sentence) < 10:  # Skip very short sentences
                continue
                
            best_stage = None
            max_matches = 0
            
            for stage, stage_keywords in keywords.items():
                matches = sum(1 for keyword in stage_keywords if keyword.lower() in sentence.lower())
                if matches > max_matches:
                    max_matches = matches
                    best_stage = stage
            
            if best_stage and max_matches > 0:
                stages[best_stage].append(sentence)
        
        return stages
    
    def generate_code(self, requirements: str, language: str = "Python") -> str:
        """Generate code based on implementation requirements"""
        prompt = f"""
Generate {language} code based on the following implementation requirements:

{requirements}

Please provide clean, well-commented, and functional code that addresses these requirements.
Include proper error handling and follow best practices.

Code:
"""
        
        response = self.generate_response(prompt, max_length=1000)
        return response
    
    def fix_bugs(self, code: str) -> str:
        """Identify and suggest fixes for bugs in code"""
        prompt = f"""
Analyze the following code for bugs, syntax errors, and logic issues. 
Provide the corrected code with explanations of what was fixed.

Original Code:
{code}

Please provide:
1. List of identified issues
2. Corrected code
3. Explanation of fixes

Response:
"""
        
        response = self.generate_response(prompt, max_length=1000)
        return response
    
    def summarize_code(self, code: str) -> str:
        """Generate a human-readable summary of code"""
        prompt = f"""
Provide a clear, human-readable summary and explanation of the following code.
Explain what it does, how it works, and any important details that would help someone understand it.

Code:
{code}

Summary and Explanation:
"""
        
        response = self.generate_response(prompt, max_length=600)
        return response
    
    def generate_stage_summary(self, stage: str, requirements: List[str]) -> str:
        """Generate summary for a specific SDLC stage"""
        requirements_text = "\n".join([f"- {req}" for req in requirements])
        
        prompt = f"""
Generate a concise summary for the {stage} stage of the Software Development Lifecycle.
Base the summary on these requirements:

{requirements_text}

Provide a clear, professional summary that covers the key aspects and deliverables for this stage.

{stage} Stage Summary:
"""
        
        response = self.generate_response(prompt, max_length=400)
        return response

# Initialize the SmartSDLC application
smart_sdlc = SmartSDLC()

# FastAPI Backend
app = FastAPI(title="SmartSDLC API", version="1.0.0")

class CodeRequest(BaseModel):
    code: str
    language: Optional[str] = "Python"

class RequirementsRequest(BaseModel):
    requirements: str
    language: Optional[str] = "Python"

@app.post("/classify-requirements")
async def classify_requirements_endpoint(file: UploadFile = File(...)):
    """Classify requirements from uploaded PDF"""
    try:
        content = await file.read()
        text = smart_sdlc.extract_pdf_text(content)
        classification = smart_sdlc.classify_requirements(text)
        return {"success": True, "classification": classification, "extracted_text": text}
    except Exception as e:
        raise HTTPException(status_code=500, detail=str(e))

@app.post("/generate-code")
async def generate_code_endpoint(request: RequirementsRequest):
    """Generate code from requirements"""
    try:
        code = smart_sdlc.generate_code(request.requirements, request.language)
        return {"success": True, "generated_code": code}
    except Exception as e:
        raise HTTPException(status_code=500, detail=str(e))

@app.post("/fix-bugs")
async def fix_bugs_endpoint(request: CodeRequest):
    """Fix bugs in provided code"""
    try:
        fixed_code = smart_sdlc.fix_bugs(request.code)
        return {"success": True, "fixed_code": fixed_code}
    except Exception as e:
        raise HTTPException(status_code=500, detail=str(e))

@app.post("/summarize-code")
async def summarize_code_endpoint(request: CodeRequest):
    """Summarize provided code"""
    try:
        summary = smart_sdlc.summarize_code(request.code)
        return {"success": True, "summary": summary}
    except Exception as e:
        raise HTTPException(status_code=500, detail=str(e))

# Gradio Interface Functions
def classify_requirements_interface(file):
    """Gradio interface for requirement classification"""
    if file is None:
        return "Please upload a PDF file.", {}
    
    try:
        with open(file.name, 'rb') as f:
            content = f.read()
        
        # Extract text from PDF
        text = smart_sdlc.extract_pdf_text(content)
        
        if not text or len(text.strip()) < 10:
            return "Could not extract meaningful text from PDF. Please check if the PDF contains readable text.", {}
        
        print(f"Extracted text length: {len(text)}")  # Debug info
        
        # Classify requirements
        classification = smart_sdlc.classify_requirements(text)
        
        print(f"Classification result: {classification}")  # Debug info
        
        # Format output for display
        output = "## Requirements Classification\n\n"
        output += f"**Extracted Text Preview:** {text[:200]}...\n\n"
        
        total_requirements = sum(len(reqs) for reqs in classification.values())
        
        if total_requirements == 0:
            # If no requirements found, show the raw AI response for debugging
            output += "⚠️ **No requirements were automatically classified. Here's what the AI generated:**\n\n"
            # Try classification again and show raw response
            prompt = f"""
Analyze the following software requirements and classify each requirement into SDLC stages.
Simply list the requirements under appropriate headings:

PLANNING:
DESIGN:
IMPLEMENTATION:
TESTING:
MAINTENANCE:

Text: {text[:1000]}
"""
            raw_response = smart_sdlc.generate_response(prompt, max_length=600)
            output += f"```\n{raw_response}\n```\n\n"
            
            # Try simple sentence splitting as backup
            sentences = [s.strip() for s in text.split('.') if len(s.strip()) > 20][:10]
            output += "**Extracted Sentences (for manual classification):**\n"
            for i, sentence in enumerate(sentences, 1):
                output += f"{i}. {sentence}\n"
        else:
            for stage, requirements in classification.items():
                output += f"### {stage} ({len(requirements)} items)\n"
                if requirements:
                    for req in requirements:
                        output += f"- {req}\n"
                else:
                    output += "- No requirements identified for this stage\n"
                output += "\n"
        
        return output, classification
        
    except Exception as e:
        error_msg = f"Error processing file: {str(e)}"
        print(f"Error in classify_requirements_interface: {e}")  # Debug info
        return error_msg, {}

def generate_code_interface(requirements, language):
    """Gradio interface for code generation"""
    if not requirements.strip():
        return "Please provide implementation requirements."
    
    try:
        code = smart_sdlc.generate_code(requirements, language)
        return f"```{language.lower()}\n{code}\n```"
    except Exception as e:
        return f"Error generating code: {str(e)}"

def fix_bugs_interface(code):
    """Gradio interface for bug fixing"""
    if not code.strip():
        return "Please provide code to analyze for bugs."
    
    try:
        fixed_code = smart_sdlc.fix_bugs(code)
        return fixed_code
    except Exception as e:
        return f"Error fixing bugs: {str(e)}"

def summarize_code_interface(code):
    """Gradio interface for code summarization"""
    if not code.strip():
        return "Please provide code to summarize."
    
    try:
        summary = smart_sdlc.summarize_code(code)
        return summary
    except Exception as e:
        return f"Error summarizing code: {str(e)}"

def generate_stage_summary_interface(stage, requirements_text):
    """Gradio interface for stage summary generation"""
    if not requirements_text.strip():
        return "Please provide requirements for the selected stage."
    
    try:
        requirements_list = [req.strip() for req in requirements_text.split('\n') if req.strip()]
        summary = smart_sdlc.generate_stage_summary(stage, requirements_list)
        return summary
    except Exception as e:
        return f"Error generating summary: {str(e)}"

# Create Gradio Interface
def create_gradio_interface():
    """Create the main Gradio interface"""
    
    with gr.Blocks(title="SmartSDLC - AI-Powered SDLC Automation", theme=gr.themes.Soft()) as interface:
        
        gr.Markdown("""
        # 🚀 SmartSDLC - AI-Powered Software Development Lifecycle Automation
        
        Automate key stages of your software development process with AI-powered tools.
        Powered by IBM Granite 3.3 2B Instruct model.
        """)
        
        with gr.Tabs():
            
            # Requirements Classifier Tab
            with gr.TabItem("📋 Requirements Classifier"):
                gr.Markdown("Upload a PDF containing software requirements to classify them into SDLC stages.")
                
                with gr.Row():
                    with gr.Column():
                        pdf_input = gr.File(
                            label="Upload Requirements PDF",
                            file_types=[".pdf"],
                            type="filepath"
                        )
                        classify_btn = gr.Button("Classify Requirements", variant="primary")
                    
                    with gr.Column():
                        classification_output = gr.Markdown(label="Classification Results")
                
                classify_btn.click(
                    fn=classify_requirements_interface,
                    inputs=[pdf_input],
                    outputs=[classification_output, gr.State()]
                )
            
            # AI Code Generator Tab
            with gr.TabItem("💻 AI Code Generator"):
                gr.Markdown("Generate code based on implementation requirements.")
                
                with gr.Row():
                    with gr.Column():
                        requirements_input = gr.Textbox(
                            label="Implementation Requirements",
                            placeholder="Describe what you want the code to do...",
                            lines=5
                        )
                        language_dropdown = gr.Dropdown(
                            choices=["Python", "JavaScript", "Java", "C++", "C#"],
                            value="Python",
                            label="Programming Language"
                        )
                        generate_btn = gr.Button("Generate Code", variant="primary")
                    
                    with gr.Column():
                        generated_code = gr.Markdown(label="Generated Code")
                
                generate_btn.click(
                    fn=generate_code_interface,
                    inputs=[requirements_input, language_dropdown],
                    outputs=[generated_code]
                )
            
            # Bug Fixer Tab
            with gr.TabItem("🐛 Bug Fixer"):
                gr.Markdown("Identify and fix bugs in your code.")
                
                with gr.Row():
                    with gr.Column():
                        code_input = gr.Textbox(
                            label="Code with Bugs",
                            placeholder="Paste your code here...",
                            lines=10
                        )
                        fix_btn = gr.Button("Fix Bugs", variant="primary")
                    
                    with gr.Column():
                        fixed_code_output = gr.Textbox(
                            label="Fixed Code & Explanation",
                            lines=10
                        )
                
                fix_btn.click(
                    fn=fix_bugs_interface,
                    inputs=[code_input],
                    outputs=[fixed_code_output]
                )
            
            # Code Summarizer Tab
            with gr.TabItem("📝 Code Summarizer"):
                gr.Markdown("Get human-readable explanations of complex code.")
                
                with gr.Row():
                    with gr.Column():
                        code_to_summarize = gr.Textbox(
                            label="Code to Summarize",
                            placeholder="Paste your code here...",
                            lines=10
                        )
                        summarize_btn = gr.Button("Summarize Code", variant="primary")
                    
                    with gr.Column():
                        code_summary = gr.Textbox(
                            label="Code Summary & Explanation",
                            lines=10
                        )
                
                summarize_btn.click(
                    fn=summarize_code_interface,
                    inputs=[code_to_summarize],
                    outputs=[code_summary]
                )
            
            # Stage Summary Generator Tab
            with gr.TabItem("📊 Stage Summary Generator"):
                gr.Markdown("Generate concise summaries for specific SDLC stages.")
                
                with gr.Row():
                    with gr.Column():
                        stage_dropdown = gr.Dropdown(
                            choices=["Planning", "Design", "Implementation", "Testing", "Maintenance"],
                            value="Planning",
                            label="SDLC Stage"
                        )
                        stage_requirements = gr.Textbox(
                            label="Requirements (one per line)",
                            placeholder="Enter requirements for this stage...",
                            lines=8
                        )
                        stage_summary_btn = gr.Button("Generate Summary", variant="primary")
                    
                    with gr.Column():
                        stage_summary_output = gr.Textbox(
                            label="Stage Summary",
                            lines=10
                        )
                
                stage_summary_btn.click(
                    fn=generate_stage_summary_interface,
                    inputs=[stage_dropdown, stage_requirements],
                    outputs=[stage_summary_output]
                )
        
        gr.Markdown("""
        ---
        **Note:** This application uses the IBM Granite 3.3 2B Instruct model for natural language processing.
        For best results, provide clear and detailed descriptions of your requirements.
        """)
    
    return interface

# Start FastAPI server in background
def start_fastapi():
    uvicorn.run(app, host="0.0.0.0", port=8000, log_level="info")

# Main function to run the application
def main():
    print("🚀 Starting SmartSDLC Application...")
    print("⚡ Initializing AI model...")
    
    # Start FastAPI in a separate thread
    api_thread = threading.Thread(target=start_fastapi, daemon=True)
    api_thread.start()
    
    print("✅ FastAPI server started on http://localhost:8000")
    print("🎨 Launching Gradio interface...")
    
    # Create and launch Gradio interface
    interface = create_gradio_interface()
    
    # Launch with public sharing enabled for Colab
    interface.launch(
        share=True,
        server_name="0.0.0.0",
        server_port=7860,
        show_error=True
    )

if __name__ == "__main__":
    main()
